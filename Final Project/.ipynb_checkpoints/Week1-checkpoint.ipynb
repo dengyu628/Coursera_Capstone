{
 "cells": [
  {
   "cell_type": "markdown",
   "metadata": {},
   "source": [
    "# Capstone Project \n",
    "# *Find myself the best neighborhood to live in Barcelona*\n",
    "\n",
    "### Yu Deng"
   ]
  },
  {
   "cell_type": "markdown",
   "metadata": {},
   "source": [
    "## 1. Introduction"
   ]
  },
  {
   "cell_type": "markdown",
   "metadata": {},
   "source": [
    "This report is for the capstone course of IBM Data Science, a professional certification series provided by Coursera.com. In this section, I am going to utilize many data science tools taught in all of 9 courses and produce a data analysis report by myself.\n",
    "\n",
    "\n",
    "I am a business school student in China. This autumn I will exchange in one of the best business school in Europe, ESADE, Barcelona, and stay their for about 3-4 months. The school doesn't offer on-campus accommodation, so I have to rent an apartment together with my schoolmates. It's a tough task for me to decide where to live. However, the capstone course brings us Foursquare API and the methods to cluster neighborhoods based on their similarity. I decide to deploy methods alike to choose the best place to live.\n",
    "\n",
    "My analysis goes through following processes:\n",
    "\n",
    "    1. Pick out neighborhoods near my school, ESADE, as candidates.\n",
    "    2. Use data from Foursquare to explore famous venues in selected neighborhoods.\n",
    "    3. Cluster these neighborhoods base on their similarity with the help of machine learning.\n",
    "    4. Sort out the most common venues in each neighborhood, calculate their propotions.\n",
    "    5. Transform my needs and interests into a vector which consists of scores on different venues. Multiply the neighborhoods dataframe by the vector to choose the best place to live. "
   ]
  },
  {
   "cell_type": "markdown",
   "metadata": {},
   "source": [
    "## 2. Data"
   ]
  },
  {
   "cell_type": "markdown",
   "metadata": {},
   "source": [
    "The data of my report consists of three part:\n",
    "    \n",
    "    1.The geospatial data of ESADE Business School.\n",
    "    2.The list of neighborhoods in Barcelona and their geospatial data.\n",
    "    3.Informations of venues in specific neighborhoods provided by Foursquare.com.\n",
    "    \n",
    "I will conduct the process of data collection step by step."
   ]
  },
  {
   "cell_type": "markdown",
   "metadata": {},
   "source": [
    "Before I start, it's neccessary to import all the packages required."
   ]
  },
  {
   "cell_type": "code",
   "execution_count": 1,
   "metadata": {},
   "outputs": [
    {
     "name": "stdout",
     "output_type": "stream",
     "text": [
      "Succeed!\n"
     ]
    }
   ],
   "source": [
    "import numpy as np\n",
    "import pandas as pd\n",
    "pd.set_option('display.max_columns', None)\n",
    "pd.set_option('display.max_rows', None)\n",
    "\n",
    "import json\n",
    "\n",
    "from geopy.geocoders import Nominatim\n",
    "\n",
    "from pandas.io.json import json_normalize\n",
    "\n",
    "import matplotlib as plt\n",
    "\n",
    "from sklearn.cluster import KMeans\n",
    "\n",
    "import folium\n",
    "\n",
    "print('Succeed!')"
   ]
  },
  {
   "cell_type": "markdown",
   "metadata": {},
   "source": [
    "### 1. Use geopy library to get the geographical coordinate of ESADE Business School"
   ]
  },
  {
   "cell_type": "code",
   "execution_count": 3,
   "metadata": {},
   "outputs": [
    {
     "name": "stdout",
     "output_type": "stream",
     "text": [
      "The geographical coordinate of ESADE Business School are 41.3947771, 2.1150794468981124.\n"
     ]
    }
   ],
   "source": [
    "esade_add = 'ESADE Business School'\n",
    "\n",
    "geolocator = Nominatim(user_agent=\"my-application\")\n",
    "location = geolocator.geocode(esade_add)\n",
    "esade_lat = location.latitude\n",
    "esade_lng = location.longitude\n",
    "print('The geographical coordinate of ESADE Business School are {}, {}.'.format(esade_lat, esade_lng))"
   ]
  },
  {
   "cell_type": "markdown",
   "metadata": {},
   "source": [
    "### 2. Choose the districts around ESADE and find out their subordinated neighborhoods"
   ]
  },
  {
   "cell_type": "markdown",
   "metadata": {},
   "source": [
    "On the wikipedia page ESADE Business School https://en.wikipedia.org/wiki/Districts_of_Barcelona, we can find the basic informations about every districts in Barcelona, including their sizes, populations, neighborhoods and so on. Firstly I scrape the table and transform it into a dataframe."
   ]
  },
  {
   "cell_type": "code",
   "execution_count": 17,
   "metadata": {},
   "outputs": [
    {
     "data": {
      "text/html": [
       "<div>\n",
       "<style scoped>\n",
       "    .dataframe tbody tr th:only-of-type {\n",
       "        vertical-align: middle;\n",
       "    }\n",
       "\n",
       "    .dataframe tbody tr th {\n",
       "        vertical-align: top;\n",
       "    }\n",
       "\n",
       "    .dataframe thead th {\n",
       "        text-align: right;\n",
       "    }\n",
       "</style>\n",
       "<table border=\"1\" class=\"dataframe\">\n",
       "  <thead>\n",
       "    <tr style=\"text-align: right;\">\n",
       "      <th></th>\n",
       "      <th>Number</th>\n",
       "      <th>District</th>\n",
       "      <th>Size km2</th>\n",
       "      <th>Population</th>\n",
       "      <th>Density inhabitants/km2</th>\n",
       "      <th>Neighbourhoods</th>\n",
       "      <th>Councilman[2]</th>\n",
       "      <th>Party</th>\n",
       "    </tr>\n",
       "  </thead>\n",
       "  <tbody>\n",
       "    <tr>\n",
       "      <td>0</td>\n",
       "      <td>1</td>\n",
       "      <td>Ciutat Vella</td>\n",
       "      <td>4.49</td>\n",
       "      <td>111290</td>\n",
       "      <td>24786</td>\n",
       "      <td>La Barceloneta, El Gòtic, El Raval, Sant Pere,...</td>\n",
       "      <td>Jordi Rabassa i Massons</td>\n",
       "      <td>Barcelona en Comú</td>\n",
       "    </tr>\n",
       "    <tr>\n",
       "      <td>1</td>\n",
       "      <td>2</td>\n",
       "      <td>Eixample</td>\n",
       "      <td>7.46</td>\n",
       "      <td>262485</td>\n",
       "      <td>35586</td>\n",
       "      <td>L'Antiga Esquerra de l'Eixample, La Nova Esque...</td>\n",
       "      <td>Jordi Martí Grau</td>\n",
       "      <td>Barcelona en Comú</td>\n",
       "    </tr>\n",
       "    <tr>\n",
       "      <td>2</td>\n",
       "      <td>3</td>\n",
       "      <td>Sants-Montjuïc</td>\n",
       "      <td>21.35</td>\n",
       "      <td>177636</td>\n",
       "      <td>8321</td>\n",
       "      <td>La Bordeta, la Font de la Guatlla, Hostafrancs...</td>\n",
       "      <td>Marc Serra Solé</td>\n",
       "      <td>Barcelona en Comú</td>\n",
       "    </tr>\n",
       "    <tr>\n",
       "      <td>3</td>\n",
       "      <td>4</td>\n",
       "      <td>Les Corts</td>\n",
       "      <td>6.08</td>\n",
       "      <td>82588</td>\n",
       "      <td>13584</td>\n",
       "      <td>les Corts, la Maternitat i Sant Ramon, Pedralbes</td>\n",
       "      <td>Xavier Marcé Carol</td>\n",
       "      <td>Socialists' Party of Catalonia</td>\n",
       "    </tr>\n",
       "    <tr>\n",
       "      <td>4</td>\n",
       "      <td>5</td>\n",
       "      <td>Sarrià-Sant Gervasi</td>\n",
       "      <td>20.09</td>\n",
       "      <td>140461</td>\n",
       "      <td>6992</td>\n",
       "      <td>El Putget i Farró, Sarrià, Sant Gervasi - la B...</td>\n",
       "      <td>Albert Batlle i Bastardas</td>\n",
       "      <td>Socialists' Party of Catalonia</td>\n",
       "    </tr>\n",
       "  </tbody>\n",
       "</table>\n",
       "</div>"
      ],
      "text/plain": [
       "   Number             District  Size km2  Population  Density inhabitants/km2  \\\n",
       "0       1         Ciutat Vella      4.49      111290                    24786   \n",
       "1       2             Eixample      7.46      262485                    35586   \n",
       "2       3       Sants-Montjuïc     21.35      177636                     8321   \n",
       "3       4            Les Corts      6.08       82588                    13584   \n",
       "4       5  Sarrià-Sant Gervasi     20.09      140461                     6992   \n",
       "\n",
       "                                      Neighbourhoods  \\\n",
       "0  La Barceloneta, El Gòtic, El Raval, Sant Pere,...   \n",
       "1  L'Antiga Esquerra de l'Eixample, La Nova Esque...   \n",
       "2  La Bordeta, la Font de la Guatlla, Hostafrancs...   \n",
       "3   les Corts, la Maternitat i Sant Ramon, Pedralbes   \n",
       "4  El Putget i Farró, Sarrià, Sant Gervasi - la B...   \n",
       "\n",
       "               Councilman[2]                           Party  \n",
       "0    Jordi Rabassa i Massons               Barcelona en Comú  \n",
       "1           Jordi Martí Grau               Barcelona en Comú  \n",
       "2            Marc Serra Solé               Barcelona en Comú  \n",
       "3         Xavier Marcé Carol  Socialists' Party of Catalonia  \n",
       "4  Albert Batlle i Bastardas  Socialists' Party of Catalonia  "
      ]
     },
     "execution_count": 17,
     "metadata": {},
     "output_type": "execute_result"
    }
   ],
   "source": [
    "url = \"https://en.wikipedia.org/wiki/Districts_of_Barcelona\"\n",
    "barce_wiki = pd.read_html(url)[3]\n",
    "barce_wiki.head()"
   ]
  },
  {
   "cell_type": "markdown",
   "metadata": {},
   "source": [
    "I do some basic cleanings and only keep *District*, *Density* and *Neighborhoods* columns."
   ]
  },
  {
   "cell_type": "code",
   "execution_count": 23,
   "metadata": {},
   "outputs": [
    {
     "data": {
      "text/html": [
       "<div>\n",
       "<style scoped>\n",
       "    .dataframe tbody tr th:only-of-type {\n",
       "        vertical-align: middle;\n",
       "    }\n",
       "\n",
       "    .dataframe tbody tr th {\n",
       "        vertical-align: top;\n",
       "    }\n",
       "\n",
       "    .dataframe thead th {\n",
       "        text-align: right;\n",
       "    }\n",
       "</style>\n",
       "<table border=\"1\" class=\"dataframe\">\n",
       "  <thead>\n",
       "    <tr style=\"text-align: right;\">\n",
       "      <th></th>\n",
       "      <th>District</th>\n",
       "      <th>Density</th>\n",
       "      <th>Neighbourhoods</th>\n",
       "    </tr>\n",
       "  </thead>\n",
       "  <tbody>\n",
       "    <tr>\n",
       "      <td>0</td>\n",
       "      <td>Ciutat Vella</td>\n",
       "      <td>24786</td>\n",
       "      <td>La Barceloneta, El Gòtic, El Raval, Sant Pere,...</td>\n",
       "    </tr>\n",
       "    <tr>\n",
       "      <td>1</td>\n",
       "      <td>Eixample</td>\n",
       "      <td>35586</td>\n",
       "      <td>L'Antiga Esquerra de l'Eixample, La Nova Esque...</td>\n",
       "    </tr>\n",
       "    <tr>\n",
       "      <td>2</td>\n",
       "      <td>Sants-Montjuïc</td>\n",
       "      <td>8321</td>\n",
       "      <td>La Bordeta, la Font de la Guatlla, Hostafrancs...</td>\n",
       "    </tr>\n",
       "    <tr>\n",
       "      <td>3</td>\n",
       "      <td>Les Corts</td>\n",
       "      <td>13584</td>\n",
       "      <td>les Corts, la Maternitat i Sant Ramon, Pedralbes</td>\n",
       "    </tr>\n",
       "    <tr>\n",
       "      <td>4</td>\n",
       "      <td>Sarrià-Sant Gervasi</td>\n",
       "      <td>6992</td>\n",
       "      <td>El Putget i Farró, Sarrià, Sant Gervasi - la B...</td>\n",
       "    </tr>\n",
       "  </tbody>\n",
       "</table>\n",
       "</div>"
      ],
      "text/plain": [
       "              District  Density  \\\n",
       "0         Ciutat Vella    24786   \n",
       "1             Eixample    35586   \n",
       "2       Sants-Montjuïc     8321   \n",
       "3            Les Corts    13584   \n",
       "4  Sarrià-Sant Gervasi     6992   \n",
       "\n",
       "                                      Neighbourhoods  \n",
       "0  La Barceloneta, El Gòtic, El Raval, Sant Pere,...  \n",
       "1  L'Antiga Esquerra de l'Eixample, La Nova Esque...  \n",
       "2  La Bordeta, la Font de la Guatlla, Hostafrancs...  \n",
       "3   les Corts, la Maternitat i Sant Ramon, Pedralbes  \n",
       "4  El Putget i Farró, Sarrià, Sant Gervasi - la B...  "
      ]
     },
     "execution_count": 23,
     "metadata": {},
     "output_type": "execute_result"
    }
   ],
   "source": [
    "barce_district = barce_wiki.drop(['Number', 'Size km2', 'Population', 'Councilman[2]', 'Party'], axis=1)\n",
    "barce_district.rename(columns = {'Density inhabitants/km2': 'Density'}, inplace=True)\n",
    "barce_district.head()"
   ]
  },
  {
   "cell_type": "markdown",
   "metadata": {},
   "source": [
    "Use the same geopy package to get the geographical coordinates of each district."
   ]
  },
  {
   "cell_type": "code",
   "execution_count": 42,
   "metadata": {},
   "outputs": [
    {
     "data": {
      "text/html": [
       "<div>\n",
       "<style scoped>\n",
       "    .dataframe tbody tr th:only-of-type {\n",
       "        vertical-align: middle;\n",
       "    }\n",
       "\n",
       "    .dataframe tbody tr th {\n",
       "        vertical-align: top;\n",
       "    }\n",
       "\n",
       "    .dataframe thead th {\n",
       "        text-align: right;\n",
       "    }\n",
       "</style>\n",
       "<table border=\"1\" class=\"dataframe\">\n",
       "  <thead>\n",
       "    <tr style=\"text-align: right;\">\n",
       "      <th></th>\n",
       "      <th>District</th>\n",
       "      <th>Density</th>\n",
       "      <th>Neighbourhoods</th>\n",
       "      <th>Latitude</th>\n",
       "      <th>Longitude</th>\n",
       "    </tr>\n",
       "  </thead>\n",
       "  <tbody>\n",
       "    <tr>\n",
       "      <td>0</td>\n",
       "      <td>Ciutat Vella</td>\n",
       "      <td>24786</td>\n",
       "      <td>La Barceloneta, El Gòtic, El Raval, Sant Pere,...</td>\n",
       "      <td>41.374962</td>\n",
       "      <td>2.173265</td>\n",
       "    </tr>\n",
       "    <tr>\n",
       "      <td>1</td>\n",
       "      <td>Eixample</td>\n",
       "      <td>35586</td>\n",
       "      <td>L'Antiga Esquerra de l'Eixample, La Nova Esque...</td>\n",
       "      <td>41.393394</td>\n",
       "      <td>2.166085</td>\n",
       "    </tr>\n",
       "    <tr>\n",
       "      <td>2</td>\n",
       "      <td>Sants-Montjuïc</td>\n",
       "      <td>8321</td>\n",
       "      <td>La Bordeta, la Font de la Guatlla, Hostafrancs...</td>\n",
       "      <td>41.340234</td>\n",
       "      <td>2.133347</td>\n",
       "    </tr>\n",
       "    <tr>\n",
       "      <td>3</td>\n",
       "      <td>Les Corts</td>\n",
       "      <td>13584</td>\n",
       "      <td>les Corts, la Maternitat i Sant Ramon, Pedralbes</td>\n",
       "      <td>41.385244</td>\n",
       "      <td>2.132863</td>\n",
       "    </tr>\n",
       "    <tr>\n",
       "      <td>4</td>\n",
       "      <td>Sarrià-Sant Gervasi</td>\n",
       "      <td>6992</td>\n",
       "      <td>El Putget i Farró, Sarrià, Sant Gervasi - la B...</td>\n",
       "      <td>41.413043</td>\n",
       "      <td>2.108356</td>\n",
       "    </tr>\n",
       "    <tr>\n",
       "      <td>5</td>\n",
       "      <td>Gràcia</td>\n",
       "      <td>28660</td>\n",
       "      <td>Vila de Gràcia, el Camp d'en Grassot i Gràcia ...</td>\n",
       "      <td>41.410171</td>\n",
       "      <td>2.155136</td>\n",
       "    </tr>\n",
       "    <tr>\n",
       "      <td>6</td>\n",
       "      <td>Horta-Guinardó</td>\n",
       "      <td>14217</td>\n",
       "      <td>El Baix Guinardó, El Guinardó, Can Baró, El Ca...</td>\n",
       "      <td>41.428540</td>\n",
       "      <td>2.143597</td>\n",
       "    </tr>\n",
       "    <tr>\n",
       "      <td>7</td>\n",
       "      <td>Nou Barris</td>\n",
       "      <td>20520</td>\n",
       "      <td>Can Peguera, Canyelles, Ciutat Meridiana, La G...</td>\n",
       "      <td>41.446727</td>\n",
       "      <td>2.172565</td>\n",
       "    </tr>\n",
       "    <tr>\n",
       "      <td>8</td>\n",
       "      <td>Sant Andreu</td>\n",
       "      <td>21737</td>\n",
       "      <td>Baró de Viver, Bon Pastor, El Congrés i els In...</td>\n",
       "      <td>41.437439</td>\n",
       "      <td>2.196859</td>\n",
       "    </tr>\n",
       "    <tr>\n",
       "      <td>9</td>\n",
       "      <td>Sant Martí</td>\n",
       "      <td>20466</td>\n",
       "      <td>El Besòs i el Maresme, el Clot, El Camp de l'A...</td>\n",
       "      <td>41.406782</td>\n",
       "      <td>2.203655</td>\n",
       "    </tr>\n",
       "  </tbody>\n",
       "</table>\n",
       "</div>"
      ],
      "text/plain": [
       "              District  Density  \\\n",
       "0         Ciutat Vella    24786   \n",
       "1             Eixample    35586   \n",
       "2       Sants-Montjuïc     8321   \n",
       "3            Les Corts    13584   \n",
       "4  Sarrià-Sant Gervasi     6992   \n",
       "5               Gràcia    28660   \n",
       "6       Horta-Guinardó    14217   \n",
       "7           Nou Barris    20520   \n",
       "8          Sant Andreu    21737   \n",
       "9           Sant Martí    20466   \n",
       "\n",
       "                                      Neighbourhoods   Latitude  Longitude  \n",
       "0  La Barceloneta, El Gòtic, El Raval, Sant Pere,...  41.374962   2.173265  \n",
       "1  L'Antiga Esquerra de l'Eixample, La Nova Esque...  41.393394   2.166085  \n",
       "2  La Bordeta, la Font de la Guatlla, Hostafrancs...  41.340234   2.133347  \n",
       "3   les Corts, la Maternitat i Sant Ramon, Pedralbes  41.385244   2.132863  \n",
       "4  El Putget i Farró, Sarrià, Sant Gervasi - la B...  41.413043   2.108356  \n",
       "5  Vila de Gràcia, el Camp d'en Grassot i Gràcia ...  41.410171   2.155136  \n",
       "6  El Baix Guinardó, El Guinardó, Can Baró, El Ca...  41.428540   2.143597  \n",
       "7  Can Peguera, Canyelles, Ciutat Meridiana, La G...  41.446727   2.172565  \n",
       "8  Baró de Viver, Bon Pastor, El Congrés i els In...  41.437439   2.196859  \n",
       "9  El Besòs i el Maresme, el Clot, El Camp de l'A...  41.406782   2.203655  "
      ]
     },
     "execution_count": 42,
     "metadata": {},
     "output_type": "execute_result"
    }
   ],
   "source": [
    "districts = barce_district.iloc[:,0]\n",
    "districts_lat = []\n",
    "districts_lng = []\n",
    "\n",
    "for district in districts:\n",
    "    geolocator = Nominatim(user_agent=\"my-application\")\n",
    "    location = geolocator.geocode(district + \", Barcelona\", timeout=10)\n",
    "    districts_lat.append(location.latitude)\n",
    "    districts_lng.append(location.longitude)\n",
    "\n",
    "barce_district['Latitude'] = pd.Series(districts_lat)\n",
    "barce_district['Longitude'] = pd.Series(districts_lng)\n",
    "\n",
    "barce_district"
   ]
  },
  {
   "cell_type": "markdown",
   "metadata": {},
   "source": [
    "Use the folium package, I can plot coordinates of ESADE Business School and all districts on the map."
   ]
  },
  {
   "cell_type": "code",
   "execution_count": 52,
   "metadata": {},
   "outputs": [
    {
     "data": {
      "text/html": [
       "<div style=\"width:100%;\"><div style=\"position:relative;width:100%;height:0;padding-bottom:60%;\"><iframe src=\"data:text/html;charset=utf-8;base64,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\" style=\"position:absolute;width:100%;height:100%;left:0;top:0;border:none !important;\" allowfullscreen webkitallowfullscreen mozallowfullscreen></iframe></div></div>"
      ],
      "text/plain": [
       "<folium.folium.Map at 0x259143bf248>"
      ]
     },
     "execution_count": 52,
     "metadata": {},
     "output_type": "execute_result"
    }
   ],
   "source": [
    "barce_add = 'Barcelona'\n",
    "\n",
    "geolocator = Nominatim(user_agent=\"my-application\")\n",
    "location = geolocator.geocode(barce_add, timeout=10)\n",
    "barce_lat = location.latitude\n",
    "barce_lng = location.longitude\n",
    "\n",
    "barce_map = folium.Map(location=[barce_lat, barce_lng], zoom_start=12)\n",
    "\n",
    "for lat, lng, district in zip(barce_district['Latitude'], barce_district['Longitude'], barce_district['District']):\n",
    "    folium.CircleMarker(\n",
    "        [lat, lng],\n",
    "        radius=10,\n",
    "        popup=district,\n",
    "        color='blue',\n",
    "        fill=True,\n",
    "        fill_color='#3186cc',\n",
    "        fill_opacity=0.3,\n",
    "        parse_html=False).add_to(barce_map)  \n",
    "\n",
    "folium.Marker([esade_lat, esade_lng], popup='ESADE').add_to(barce_map)\n",
    "\n",
    "barce_map"
   ]
  },
  {
   "cell_type": "markdown",
   "metadata": {},
   "source": [
    "Obviously I want to live near my school since it is easier to commute. So I choose the top 5 closest districts displayed by the map above, which are ***Les Corts, Sarrià-Sant Gervasi, Eixample, Gràcia and Horta-Guinardó***."
   ]
  },
  {
   "cell_type": "code",
   "execution_count": 55,
   "metadata": {},
   "outputs": [
    {
     "data": {
      "text/html": [
       "<div>\n",
       "<style scoped>\n",
       "    .dataframe tbody tr th:only-of-type {\n",
       "        vertical-align: middle;\n",
       "    }\n",
       "\n",
       "    .dataframe tbody tr th {\n",
       "        vertical-align: top;\n",
       "    }\n",
       "\n",
       "    .dataframe thead th {\n",
       "        text-align: right;\n",
       "    }\n",
       "</style>\n",
       "<table border=\"1\" class=\"dataframe\">\n",
       "  <thead>\n",
       "    <tr style=\"text-align: right;\">\n",
       "      <th></th>\n",
       "      <th>District</th>\n",
       "      <th>Density</th>\n",
       "      <th>Neighbourhoods</th>\n",
       "      <th>Latitude</th>\n",
       "      <th>Longitude</th>\n",
       "    </tr>\n",
       "  </thead>\n",
       "  <tbody>\n",
       "    <tr>\n",
       "      <td>0</td>\n",
       "      <td>Eixample</td>\n",
       "      <td>35586</td>\n",
       "      <td>L'Antiga Esquerra de l'Eixample, La Nova Esque...</td>\n",
       "      <td>41.393394</td>\n",
       "      <td>2.166085</td>\n",
       "    </tr>\n",
       "    <tr>\n",
       "      <td>1</td>\n",
       "      <td>Les Corts</td>\n",
       "      <td>13584</td>\n",
       "      <td>les Corts, la Maternitat i Sant Ramon, Pedralbes</td>\n",
       "      <td>41.385244</td>\n",
       "      <td>2.132863</td>\n",
       "    </tr>\n",
       "    <tr>\n",
       "      <td>2</td>\n",
       "      <td>Sarrià-Sant Gervasi</td>\n",
       "      <td>6992</td>\n",
       "      <td>El Putget i Farró, Sarrià, Sant Gervasi - la B...</td>\n",
       "      <td>41.413043</td>\n",
       "      <td>2.108356</td>\n",
       "    </tr>\n",
       "    <tr>\n",
       "      <td>3</td>\n",
       "      <td>Gràcia</td>\n",
       "      <td>28660</td>\n",
       "      <td>Vila de Gràcia, el Camp d'en Grassot i Gràcia ...</td>\n",
       "      <td>41.410171</td>\n",
       "      <td>2.155136</td>\n",
       "    </tr>\n",
       "    <tr>\n",
       "      <td>4</td>\n",
       "      <td>Horta-Guinardó</td>\n",
       "      <td>14217</td>\n",
       "      <td>El Baix Guinardó, El Guinardó, Can Baró, El Ca...</td>\n",
       "      <td>41.428540</td>\n",
       "      <td>2.143597</td>\n",
       "    </tr>\n",
       "  </tbody>\n",
       "</table>\n",
       "</div>"
      ],
      "text/plain": [
       "              District  Density  \\\n",
       "0             Eixample    35586   \n",
       "1            Les Corts    13584   \n",
       "2  Sarrià-Sant Gervasi     6992   \n",
       "3               Gràcia    28660   \n",
       "4       Horta-Guinardó    14217   \n",
       "\n",
       "                                      Neighbourhoods   Latitude  Longitude  \n",
       "0  L'Antiga Esquerra de l'Eixample, La Nova Esque...  41.393394   2.166085  \n",
       "1   les Corts, la Maternitat i Sant Ramon, Pedralbes  41.385244   2.132863  \n",
       "2  El Putget i Farró, Sarrià, Sant Gervasi - la B...  41.413043   2.108356  \n",
       "3  Vila de Gràcia, el Camp d'en Grassot i Gràcia ...  41.410171   2.155136  \n",
       "4  El Baix Guinardó, El Guinardó, Can Baró, El Ca...  41.428540   2.143597  "
      ]
     },
     "execution_count": 55,
     "metadata": {},
     "output_type": "execute_result"
    }
   ],
   "source": [
    "barce_district_candi = barce_district.iloc[[1,3,4,5,6],:].reset_index(drop = True)\n",
    "barce_district_candi"
   ]
  },
  {
   "cell_type": "markdown",
   "metadata": {},
   "source": [
    "### 3. Acquire the venues data in neighborhoods"
   ]
  },
  {
   "cell_type": "markdown",
   "metadata": {},
   "source": [
    "In this section, I will split the dataframe of districts into neighborhoods within them. Than use Foursquare.com to explore venues in each neighborhood. Since the venues data naturally leads me towards next section: clustering and further analysis, I leave it in the third part of my report. Here I will simply finish the split work."
   ]
  },
  {
   "cell_type": "code",
   "execution_count": 62,
   "metadata": {},
   "outputs": [
    {
     "ename": "TypeError",
     "evalue": "'method' object is not subscriptable",
     "output_type": "error",
     "traceback": [
      "\u001b[1;31m---------------------------------------------------------------------------\u001b[0m",
      "\u001b[1;31mTypeError\u001b[0m                                 Traceback (most recent call last)",
      "\u001b[1;32m<ipython-input-62-a4cb343027d1>\u001b[0m in \u001b[0;36m<module>\u001b[1;34m\u001b[0m\n\u001b[0;32m      2\u001b[0m \u001b[0mneigh_split\u001b[0m \u001b[1;33m=\u001b[0m \u001b[0mneigh_split\u001b[0m\u001b[1;33m.\u001b[0m\u001b[0mreset_index\u001b[0m\u001b[1;33m(\u001b[0m\u001b[0mlevel\u001b[0m\u001b[1;33m=\u001b[0m\u001b[1;36m1\u001b[0m\u001b[1;33m,\u001b[0m \u001b[0mdrop\u001b[0m\u001b[1;33m=\u001b[0m\u001b[1;32mTrue\u001b[0m\u001b[1;33m)\u001b[0m\u001b[1;33m.\u001b[0m\u001b[0mrename\u001b[0m\u001b[1;33m(\u001b[0m\u001b[0mcolumns\u001b[0m\u001b[1;33m=\u001b[0m\u001b[1;33m{\u001b[0m\u001b[1;36m0\u001b[0m\u001b[1;33m:\u001b[0m\u001b[1;34m'Neighborhood'\u001b[0m\u001b[1;33m}\u001b[0m\u001b[1;33m)\u001b[0m\u001b[1;33m\u001b[0m\u001b[1;33m\u001b[0m\u001b[0m\n\u001b[0;32m      3\u001b[0m \u001b[1;33m\u001b[0m\u001b[0m\n\u001b[1;32m----> 4\u001b[1;33m \u001b[0mbarce_neigh\u001b[0m \u001b[1;33m=\u001b[0m \u001b[0mbarce_district_candi\u001b[0m\u001b[1;33m.\u001b[0m\u001b[0mjoin\u001b[0m\u001b[1;33m(\u001b[0m\u001b[0mneigh_split\u001b[0m\u001b[1;33m)\u001b[0m\u001b[1;33m.\u001b[0m\u001b[0mdrop\u001b[0m\u001b[1;33m[\u001b[0m\u001b[1;33m[\u001b[0m\u001b[1;36m1\u001b[0m\u001b[1;33m,\u001b[0m\u001b[1;36m2\u001b[0m\u001b[1;33m,\u001b[0m\u001b[1;36m3\u001b[0m\u001b[1;33m,\u001b[0m\u001b[1;36m4\u001b[0m\u001b[1;33m]\u001b[0m\u001b[1;33m]\u001b[0m\u001b[1;33m\u001b[0m\u001b[1;33m\u001b[0m\u001b[0m\n\u001b[0m\u001b[0;32m      5\u001b[0m \u001b[0mbarce_neigh\u001b[0m\u001b[1;33m\u001b[0m\u001b[1;33m\u001b[0m\u001b[0m\n",
      "\u001b[1;31mTypeError\u001b[0m: 'method' object is not subscriptable"
     ]
    }
   ],
   "source": [
    "neigh_split = barce_district_candi['Neighbourhoods'].str.split(', ', expand=True).stack().to_frame() \n",
    "neigh_split = neigh_split.reset_index(level=1, drop=True).rename(columns={0:'Neighborhood'}) \n",
    "\n",
    "barce_neigh = barce_district_candi.join(neigh_split).drop[[1,2,3,4]]\n",
    "barce_neigh"
   ]
  }
 ],
 "metadata": {
  "kernelspec": {
   "display_name": "Python 3",
   "language": "python",
   "name": "python3"
  },
  "language_info": {
   "codemirror_mode": {
    "name": "ipython",
    "version": 3
   },
   "file_extension": ".py",
   "mimetype": "text/x-python",
   "name": "python",
   "nbconvert_exporter": "python",
   "pygments_lexer": "ipython3",
   "version": "3.7.4"
  }
 },
 "nbformat": 4,
 "nbformat_minor": 2
}
